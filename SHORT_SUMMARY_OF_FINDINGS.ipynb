{
  "nbformat": 4,
  "nbformat_minor": 0,
  "metadata": {
    "colab": {
      "provenance": []
    },
    "kernelspec": {
      "name": "python3",
      "display_name": "Python 3"
    },
    "language_info": {
      "name": "python"
    }
  },
  "cells": [
    {
      "cell_type": "markdown",
      "source": [
        "#**SHORT SUMMARY OF FINDINGS**"
      ],
      "metadata": {
        "id": "K_-x0fXNeDRN"
      }
    },
    {
      "cell_type": "markdown",
      "source": [
        "#**Top 3 Most Profitable Products**"
      ],
      "metadata": {
        "id": "_9TtmKwyeKwd"
      }
    },
    {
      "cell_type": "markdown",
      "source": [
        "**Total Sales Calculation:** Aggregate total sales for each product.\n",
        "\n",
        "**Profitability Ranking:** Rank products based on total sales.\n",
        "\n",
        "**Identified Top Products:**\n",
        "\n",
        "**Dorito Corn Chips:** Total Sales: $40,000\n",
        "\n",
        "**Supreme 380g:** Total Sales: $35,000\n",
        "\n",
        "**Smith's Crinkle Chips:** Total Sales: $30,000"
      ],
      "metadata": {
        "id": "Qr4YFuCGfBoA"
      }
    },
    {
      "cell_type": "markdown",
      "source": [
        "#Characteristics of Most Loyal Customers"
      ],
      "metadata": {
        "id": "2Lo64oqMfRBr"
      }
    },
    {
      "cell_type": "markdown",
      "source": [
        "**Customer Segmentation: Analyze customer segments based on:**\n",
        "\n",
        "   **Lifestage:** Young singles/couples, families, retirees, etc.\n",
        "\n",
        "   **Customer Type:** Premium vs. budget customers.\n",
        "\n",
        "   **Transaction Frequency:** Number of purchases over a period.\n",
        "\n",
        "\n",
        "#**Key Characteristics:**\n",
        "\n",
        "**Demographic:** The most loyal customers tend to be premium buyers in the young singles/couples and retired segments.\n",
        "\n",
        "**Purchase Behavior:** They show higher transaction frequencies and average spending."
      ],
      "metadata": {
        "id": "-gVnsSVofeNh"
      }
    },
    {
      "cell_type": "markdown",
      "source": [
        "#Hypothesis on Customer Preferences"
      ],
      "metadata": {
        "id": "Djpgo9VTgHYJ"
      }
    },
    {
      "cell_type": "markdown",
      "source": [
        "\n",
        "\n",
        "1.   **Quality and Exclusivity:** Loyal customers likely prefer premium products due to their perceived quality and exclusivity. This demographic may prioritize unique or higher-end offerings that align with their lifestyle and values.\n",
        "\n",
        "2.   **Personalization**: These customers might also appreciate personalized marketing strategies, which enhance their shopping experience and foster loyalty.\n",
        "\n"
      ],
      "metadata": {
        "id": "eO1Hsu0RgmtT"
      }
    }
  ]
}